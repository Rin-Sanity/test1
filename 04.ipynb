{
  "nbformat": 4,
  "nbformat_minor": 0,
  "metadata": {
    "colab": {
      "provenance": [],
      "authorship_tag": "ABX9TyPiSHb4LrZCXay5a/ZlxWLe",
      "include_colab_link": true
    },
    "kernelspec": {
      "name": "python3",
      "display_name": "Python 3"
    },
    "language_info": {
      "name": "python"
    }
  },
  "cells": [
    {
      "cell_type": "markdown",
      "metadata": {
        "id": "view-in-github",
        "colab_type": "text"
      },
      "source": [
        "<a href=\"https://colab.research.google.com/github/Rin-Sanity/test1/blob/main/04.ipynb\" target=\"_parent\"><img src=\"https://colab.research.google.com/assets/colab-badge.svg\" alt=\"Open In Colab\"/></a>"
      ]
    },
    {
      "cell_type": "code",
      "execution_count": 5,
      "metadata": {
        "id": "ZdJJWIZ_BGId",
        "outputId": "5487e26e-58f6-4550-f207-de29a3e8e81a",
        "colab": {
          "base_uri": "https://localhost:8080/"
        }
      },
      "outputs": [
        {
          "output_type": "stream",
          "name": "stdout",
          "text": [
            "--2023-11-19 23:20:45--  https://nlp100.github.io/data/neko.txt\n",
            "Resolving nlp100.github.io (nlp100.github.io)... 185.199.108.153, 185.199.109.153, 185.199.110.153, ...\n",
            "Connecting to nlp100.github.io (nlp100.github.io)|185.199.108.153|:443... connected.\n",
            "HTTP request sent, awaiting response... 200 OK\n",
            "Length: 975789 (953K) [text/plain]\n",
            "Saving to: ‘neko.txt.1’\n",
            "\n",
            "\rneko.txt.1            0%[                    ]       0  --.-KB/s               \rneko.txt.1          100%[===================>] 952.92K  --.-KB/s    in 0.01s   \n",
            "\n",
            "2023-11-19 23:20:45 (82.7 MB/s) - ‘neko.txt.1’ saved [975789/975789]\n",
            "\n"
          ]
        }
      ],
      "source": [
        "!wget https://nlp100.github.io/data/neko.txt"
      ]
    }
  ]
}
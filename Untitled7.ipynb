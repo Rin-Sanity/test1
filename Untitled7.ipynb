{
  "nbformat": 4,
  "nbformat_minor": 0,
  "metadata": {
    "colab": {
      "provenance": [],
      "authorship_tag": "ABX9TyMuVI5mS3b8XZ6p9+2JSTIr",
      "include_colab_link": true
    },
    "kernelspec": {
      "name": "python3",
      "display_name": "Python 3"
    },
    "language_info": {
      "name": "python"
    }
  },
  "cells": [
    {
      "cell_type": "markdown",
      "metadata": {
        "id": "view-in-github",
        "colab_type": "text"
      },
      "source": [
        "<a href=\"https://colab.research.google.com/github/Rin-Sanity/test1/blob/main/Untitled7.ipynb\" target=\"_parent\"><img src=\"https://colab.research.google.com/assets/colab-badge.svg\" alt=\"Open In Colab\"/></a>"
      ]
    },
    {
      "cell_type": "code",
      "execution_count": null,
      "metadata": {
        "id": "6epDm1dnn_pF",
        "colab": {
          "base_uri": "https://localhost:8080/"
        },
        "outputId": "aa0fba8e-b482-41ee-fac1-22f2e4a57a58"
      },
      "outputs": [
        {
          "output_type": "stream",
          "name": "stdout",
          "text": [
            "s\n",
            "t\n",
            "r\n",
            "e\n",
            "s\n",
            "s\n",
            "e\n",
            "d\n"
          ]
        }
      ],
      "source": [
        "\n",
        "a = 'stressed'\n",
        "for i in range(len(a)):\n",
        "    b = a[i]\n",
        "    print(b)"
      ]
    },
    {
      "cell_type": "code",
      "source": [],
      "metadata": {
        "id": "GWwSaiJPs_jh"
      },
      "execution_count": null,
      "outputs": []
    },
    {
      "cell_type": "code",
      "source": [],
      "metadata": {
        "id": "RPn2MtCks_R0"
      },
      "execution_count": null,
      "outputs": []
    }
  ]
}
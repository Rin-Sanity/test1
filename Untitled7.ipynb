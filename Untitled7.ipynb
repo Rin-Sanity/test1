{
  "nbformat": 4,
  "nbformat_minor": 0,
  "metadata": {
    "colab": {
      "provenance": [],
      "authorship_tag": "ABX9TyMNyCzjjTRc7TNMt2asMWI3",
      "include_colab_link": true
    },
    "kernelspec": {
      "name": "python3",
      "display_name": "Python 3"
    },
    "language_info": {
      "name": "python"
    }
  },
  "cells": [
    {
      "cell_type": "markdown",
      "metadata": {
        "id": "view-in-github",
        "colab_type": "text"
      },
      "source": [
        "<a href=\"https://colab.research.google.com/github/Rin-Sanity/test1/blob/main/Untitled7.ipynb\" target=\"_parent\"><img src=\"https://colab.research.google.com/assets/colab-badge.svg\" alt=\"Open In Colab\"/></a>"
      ]
    },
    {
      "cell_type": "code",
      "execution_count": 2,
      "metadata": {
        "id": "6epDm1dnn_pF",
        "colab": {
          "base_uri": "https://localhost:8080/"
        },
        "outputId": "116f59b7-9d9e-43c9-eddc-7c94fb73d34c"
      },
      "outputs": [
        {
          "output_type": "stream",
          "name": "stdout",
          "text": [
            "desserts\n"
          ]
        }
      ],
      "source": [
        "\n",
        "a = 'stressed'\n",
        "print(a[::-1])"
      ]
    },
    {
      "cell_type": "code",
      "source": [
        "a=\"パタトクカシーー\"\n",
        "print(a[1::2])"
      ],
      "metadata": {
        "id": "GWwSaiJPs_jh",
        "colab": {
          "base_uri": "https://localhost:8080/"
        },
        "outputId": "f46397c5-2967-46f5-eefb-dd30221f3c26"
      },
      "execution_count": 3,
      "outputs": [
        {
          "output_type": "stream",
          "name": "stdout",
          "text": [
            "タクシー\n"
          ]
        }
      ]
    },
    {
      "cell_type": "code",
      "source": [
        "\n",
        "a = \"パトカー\"\n",
        "b = \"タクシー\"\n",
        "\n",
        "lis = []\n",
        "for x, y in zip(a, b):\n",
        "    lis.append(x)\n",
        "    lis.append(y)\n",
        "\n",
        "lis_j = \"\".join(lis)\n",
        "print(lis_j)"
      ],
      "metadata": {
        "id": "RPn2MtCks_R0",
        "colab": {
          "base_uri": "https://localhost:8080/"
        },
        "outputId": "cd5f14e6-4751-4086-d688-26b0f8161530"
      },
      "execution_count": 4,
      "outputs": [
        {
          "output_type": "stream",
          "name": "stdout",
          "text": [
            "パタトクカシーー\n"
          ]
        }
      ]
    },
    {
      "cell_type": "code",
      "source": [
        "a = \"Now I need a drink, alcoholic of course, after the heavy lectures involving quantum mechanics.\"\n",
        "b = a.replace(\",\", \"\")\n",
        "\n",
        "lis = []\n",
        "for x in b.split():\n",
        "    lis.append(x)\n",
        "\n",
        "len_l = [len(y) for y in lis]\n",
        "print(len_l)"
      ],
      "metadata": {
        "id": "ui_j0eefOYeR",
        "outputId": "46cc756b-1307-487a-bd61-33b9b559572f",
        "colab": {
          "base_uri": "https://localhost:8080/"
        }
      },
      "execution_count": 7,
      "outputs": [
        {
          "output_type": "stream",
          "name": "stdout",
          "text": [
            "[3, 1, 4, 1, 5, 9, 2, 6, 5, 3, 5, 8, 9, 7, 10]\n"
          ]
        }
      ]
    },
    {
      "cell_type": "code",
      "source": [
        "text1 = \"Hi He Lied Because Boron Could Not Oxidize Fluorine. New Nations Might Also Sign Peace Security Clause. Arthur King Can.\"\n",
        "\n",
        "num = [1, 5, 6, 7, 8, 9, 15, 16, 19]\n",
        "\n",
        "dic = {}\n",
        "\n",
        "text1_r = text1.replace(\".\", \"\")\n",
        "text1_lis = text1_r.split()\n",
        "for i, v in enumerate(text1_lis):\n",
        "    if i + 1 in num:\n",
        "        dic[v[0]] = i + 1\n",
        "    else:\n",
        "        dic[v[:2]] = i + 1\n",
        "\n",
        "print(dic)"
      ],
      "metadata": {
        "id": "u3teyKdcO0D7",
        "outputId": "fbede1c1-c7c3-4f7d-fcb8-240a455ad354",
        "colab": {
          "base_uri": "https://localhost:8080/"
        }
      },
      "execution_count": 8,
      "outputs": [
        {
          "output_type": "stream",
          "name": "stdout",
          "text": [
            "{'H': 1, 'He': 2, 'Li': 3, 'Be': 4, 'B': 5, 'C': 6, 'N': 7, 'O': 8, 'F': 9, 'Ne': 10, 'Na': 11, 'Mi': 12, 'Al': 13, 'Si': 14, 'P': 15, 'S': 16, 'Cl': 17, 'Ar': 18, 'K': 19, 'Ca': 20}\n"
          ]
        }
      ]
    }
  ]
}